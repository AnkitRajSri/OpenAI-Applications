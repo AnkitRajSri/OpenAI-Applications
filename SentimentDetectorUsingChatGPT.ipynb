{
  "nbformat": 4,
  "nbformat_minor": 0,
  "metadata": {
    "colab": {
      "provenance": [],
      "authorship_tag": "ABX9TyPlqbKtunwFyWPQQTPz1OqK",
      "include_colab_link": true
    },
    "kernelspec": {
      "name": "python3",
      "display_name": "Python 3"
    },
    "language_info": {
      "name": "python"
    }
  },
  "cells": [
    {
      "cell_type": "markdown",
      "metadata": {
        "id": "view-in-github",
        "colab_type": "text"
      },
      "source": [
        "<a href=\"https://colab.research.google.com/github/AnkitRajSri/SentimentDetectorUsingChatGPT/blob/main/SentimentDetectorUsingChatGPT.ipynb\" target=\"_parent\"><img src=\"https://colab.research.google.com/assets/colab-badge.svg\" alt=\"Open In Colab\"/></a>"
      ]
    },
    {
      "cell_type": "markdown",
      "source": [
        "### Import the dependencies"
      ],
      "metadata": {
        "id": "5hP_ZoJ771OT"
      }
    },
    {
      "cell_type": "code",
      "execution_count": 1,
      "metadata": {
        "colab": {
          "base_uri": "https://localhost:8080/"
        },
        "id": "B7xKke4G7jhq",
        "outputId": "6caf6592-1a6e-4508-ad23-8d9ea57f693b"
      },
      "outputs": [
        {
          "output_type": "stream",
          "name": "stdout",
          "text": [
            "Requirement already satisfied: openai in /usr/local/lib/python3.10/dist-packages (0.27.8)\n",
            "Requirement already satisfied: requests>=2.20 in /usr/local/lib/python3.10/dist-packages (from openai) (2.27.1)\n",
            "Requirement already satisfied: tqdm in /usr/local/lib/python3.10/dist-packages (from openai) (4.65.0)\n",
            "Requirement already satisfied: aiohttp in /usr/local/lib/python3.10/dist-packages (from openai) (3.8.4)\n",
            "Requirement already satisfied: urllib3<1.27,>=1.21.1 in /usr/local/lib/python3.10/dist-packages (from requests>=2.20->openai) (1.26.16)\n",
            "Requirement already satisfied: certifi>=2017.4.17 in /usr/local/lib/python3.10/dist-packages (from requests>=2.20->openai) (2023.5.7)\n",
            "Requirement already satisfied: charset-normalizer~=2.0.0 in /usr/local/lib/python3.10/dist-packages (from requests>=2.20->openai) (2.0.12)\n",
            "Requirement already satisfied: idna<4,>=2.5 in /usr/local/lib/python3.10/dist-packages (from requests>=2.20->openai) (3.4)\n",
            "Requirement already satisfied: attrs>=17.3.0 in /usr/local/lib/python3.10/dist-packages (from aiohttp->openai) (23.1.0)\n",
            "Requirement already satisfied: multidict<7.0,>=4.5 in /usr/local/lib/python3.10/dist-packages (from aiohttp->openai) (6.0.4)\n",
            "Requirement already satisfied: async-timeout<5.0,>=4.0.0a3 in /usr/local/lib/python3.10/dist-packages (from aiohttp->openai) (4.0.2)\n",
            "Requirement already satisfied: yarl<2.0,>=1.0 in /usr/local/lib/python3.10/dist-packages (from aiohttp->openai) (1.9.2)\n",
            "Requirement already satisfied: frozenlist>=1.1.1 in /usr/local/lib/python3.10/dist-packages (from aiohttp->openai) (1.3.3)\n",
            "Requirement already satisfied: aiosignal>=1.1.2 in /usr/local/lib/python3.10/dist-packages (from aiohttp->openai) (1.3.1)\n"
          ]
        }
      ],
      "source": [
        "!pip install openai"
      ]
    },
    {
      "cell_type": "code",
      "source": [
        "!pip install configobj"
      ],
      "metadata": {
        "colab": {
          "base_uri": "https://localhost:8080/"
        },
        "id": "kdNxyg4TFo2g",
        "outputId": "5eb02774-e07f-4003-a01b-9d60a1bf6458"
      },
      "execution_count": 39,
      "outputs": [
        {
          "output_type": "stream",
          "name": "stdout",
          "text": [
            "Requirement already satisfied: configobj in /usr/local/lib/python3.10/dist-packages (5.0.8)\n",
            "Requirement already satisfied: six in /usr/local/lib/python3.10/dist-packages (from configobj) (1.16.0)\n"
          ]
        }
      ]
    },
    {
      "cell_type": "code",
      "source": [
        "!pip install newsapi-python"
      ],
      "metadata": {
        "colab": {
          "base_uri": "https://localhost:8080/"
        },
        "id": "Y-R2yw5ByKya",
        "outputId": "078ce2a4-3212-48ff-ee2e-ba48a2d6c2fb"
      },
      "execution_count": 46,
      "outputs": [
        {
          "output_type": "stream",
          "name": "stdout",
          "text": [
            "Collecting newsapi-python\n",
            "  Downloading newsapi_python-0.2.7-py2.py3-none-any.whl (7.9 kB)\n",
            "Requirement already satisfied: requests<3.0.0 in /usr/local/lib/python3.10/dist-packages (from newsapi-python) (2.27.1)\n",
            "Requirement already satisfied: urllib3<1.27,>=1.21.1 in /usr/local/lib/python3.10/dist-packages (from requests<3.0.0->newsapi-python) (1.26.16)\n",
            "Requirement already satisfied: certifi>=2017.4.17 in /usr/local/lib/python3.10/dist-packages (from requests<3.0.0->newsapi-python) (2023.5.7)\n",
            "Requirement already satisfied: charset-normalizer~=2.0.0 in /usr/local/lib/python3.10/dist-packages (from requests<3.0.0->newsapi-python) (2.0.12)\n",
            "Requirement already satisfied: idna<4,>=2.5 in /usr/local/lib/python3.10/dist-packages (from requests<3.0.0->newsapi-python) (3.4)\n",
            "Installing collected packages: newsapi-python\n",
            "Successfully installed newsapi-python-0.2.7\n"
          ]
        }
      ]
    },
    {
      "cell_type": "code",
      "source": [
        "import os\n",
        "import openai\n",
        "import requests\n",
        "import json\n",
        "import pandas as pd\n",
        "from datetime import datetime\n",
        "from configobj import ConfigObj\n",
        "from newsapi import NewsApiClient"
      ],
      "metadata": {
        "id": "VMF7RK9S7556"
      },
      "execution_count": 47,
      "outputs": []
    },
    {
      "cell_type": "markdown",
      "source": [
        "### Read the config arguments"
      ],
      "metadata": {
        "id": "jpM4iw1bFuuz"
      }
    },
    {
      "cell_type": "code",
      "source": [
        "config_obj = ConfigObj(\"config_gpt_sa.ini\")"
      ],
      "metadata": {
        "id": "dv6PuXhOFuSK"
      },
      "execution_count": 41,
      "outputs": []
    },
    {
      "cell_type": "code",
      "source": [
        "openai_api_key = config_obj[\"OPENAI\"][\"openai_api_key\"]\n",
        "ninjas_api_key = config_obj[\"APININJAS\"][\"ninjas_api_key\"]\n",
        "news_api_key = config_obj[\"NEWSAPI\"][\"news_api_key\"]"
      ],
      "metadata": {
        "id": "kRBLnWCQqAHN"
      },
      "execution_count": 42,
      "outputs": []
    },
    {
      "cell_type": "code",
      "source": [
        "openai.api_key = openai_api_key"
      ],
      "metadata": {
        "id": "Fh1VVqXkF1Mm"
      },
      "execution_count": 43,
      "outputs": []
    },
    {
      "cell_type": "markdown",
      "source": [
        "### App functions"
      ],
      "metadata": {
        "id": "RLOuogIG8iye"
      }
    },
    {
      "cell_type": "markdown",
      "source": [
        "##### Sentiment detector function"
      ],
      "metadata": {
        "id": "7Xq21QoXxeCq"
      }
    },
    {
      "cell_type": "code",
      "source": [
        "def gpt_sentiment_detector(prompt, emotions):\n",
        "  sys_prompt = f\"\"\"\n",
        "  You are an emotionally intelligent assistant.\n",
        "  Classify the sentiment of the user\"s text with ONLY ONE OF THE FOLLOWING EMOTIONS: {emotions}.\n",
        "  After classifying the text, respond with the emotion ONLY.\n",
        "  \"\"\"\n",
        "\n",
        "  messages = [\n",
        "      {\"role\": \"system\",\n",
        "       \"content\": sys_prompt},\n",
        "      {\"role\": \"user\",\n",
        "       \"content\": prompt}\n",
        "  ]\n",
        "\n",
        "  response = openai.ChatCompletion.create(\n",
        "      model=\"gpt-3.5-turbo\",\n",
        "      messages=messages,\n",
        "      max_tokens=20,\n",
        "      temperature=0\n",
        "  )\n",
        "\n",
        "  r = response.choices[0].message.content\n",
        "  if r == \"\":\n",
        "    return \"N/A\"\n",
        "  return r"
      ],
      "metadata": {
        "id": "iCt8fpwr8DDj"
      },
      "execution_count": 45,
      "outputs": []
    },
    {
      "cell_type": "markdown",
      "source": [
        "### Function to fetch quotes from apininjas"
      ],
      "metadata": {
        "id": "F5lQKIaa_WDE"
      }
    },
    {
      "cell_type": "code",
      "source": [
        "def fetch_quotes(category):\n",
        "  api_url = \"https://api.api-ninjas.com/v1/quotes?category={}\".format(category)\n",
        "  response = requests.get(api_url, headers={\"X-Api-Key\": ninjas_api_key})\n",
        "  if response.status_code == requests.codes.ok:\n",
        "      return response.json()[0][\"quote\"]\n",
        "  else:\n",
        "      print(\"Error:\", response.status_code, response.text)"
      ],
      "metadata": {
        "id": "443gU4QBGtbJ"
      },
      "execution_count": 27,
      "outputs": []
    },
    {
      "cell_type": "markdown",
      "source": [
        "##### Fetch news using newsapi"
      ],
      "metadata": {
        "id": "t6KYh_YZxsSX"
      }
    },
    {
      "cell_type": "code",
      "source": [
        "news_api = NewsApiClient(api_key=news_api_key)"
      ],
      "metadata": {
        "id": "aAJdUw4Azk64"
      },
      "execution_count": 57,
      "outputs": []
    },
    {
      "cell_type": "code",
      "source": [
        "def get_articles(query, sources, language=\"en\", page_size=1):\n",
        "  top_articles = news_api.get_everything(q=query,\n",
        "                                         sources=sources,\n",
        "                                         language=language,\n",
        "                                         page_size=page_size)\n",
        "  return top_articles[\"articles\"][0][\"title\"]"
      ],
      "metadata": {
        "id": "iawr1NHWI_NA"
      },
      "execution_count": 107,
      "outputs": []
    },
    {
      "cell_type": "markdown",
      "source": [
        "### Test the sentiment detector"
      ],
      "metadata": {
        "id": "eCYsISh7tz-R"
      }
    },
    {
      "cell_type": "markdown",
      "source": [
        "##### Test Case 1: Detect the emotion of a quote"
      ],
      "metadata": {
        "id": "9NPX-tZFt2dY"
      }
    },
    {
      "cell_type": "code",
      "source": [
        "emotions = \"happy, funny, sad, angry, mad, tired, very happy, very sad, very angry, very tired, very mad\""
      ],
      "metadata": {
        "id": "WCtLPO9AUi74"
      },
      "execution_count": 124,
      "outputs": []
    },
    {
      "cell_type": "code",
      "source": [
        "quote = fetch_quotes(\"funny\")\n",
        "print(quote)"
      ],
      "metadata": {
        "colab": {
          "base_uri": "https://localhost:8080/"
        },
        "id": "wrZpbe-luLeq",
        "outputId": "337a3a52-96b2-4749-8fc3-bb576b273613"
      },
      "execution_count": 34,
      "outputs": [
        {
          "output_type": "stream",
          "name": "stdout",
          "text": [
            "Mmmm... the comedy that matters is the comedy you pull out of thin air. It's a bit like when something funny has happened and you try to explain it to someone else and end up saying, 'You had to be there.'\n"
          ]
        }
      ]
    },
    {
      "cell_type": "code",
      "source": [
        "print(gpt_sentiment_detector(quote, emotions))"
      ],
      "metadata": {
        "colab": {
          "base_uri": "https://localhost:8080/"
        },
        "id": "xwUBe8TnuRnf",
        "outputId": "dcc97eaa-ccac-4d22-808c-9c942db94fc5"
      },
      "execution_count": 37,
      "outputs": [
        {
          "output_type": "stream",
          "name": "stdout",
          "text": [
            "funny\n"
          ]
        }
      ]
    },
    {
      "cell_type": "markdown",
      "source": [
        "##### Test Case 2: Detect the tone of a news article"
      ],
      "metadata": {
        "id": "qRISAt8X4E4F"
      }
    },
    {
      "cell_type": "code",
      "source": [
        "emotions = \"Formal, Informal, Optimistic, Worried, Friendly, Curious, Assertive, Encouraging\""
      ],
      "metadata": {
        "id": "ZGoSjriTutYj"
      },
      "execution_count": 111,
      "outputs": []
    },
    {
      "cell_type": "code",
      "source": [
        "article = get_articles(\"Rise of Artificial Intelligence\", \"google-news\")\n",
        "print(article)"
      ],
      "metadata": {
        "colab": {
          "base_uri": "https://localhost:8080/"
        },
        "id": "pQdXZzL948eG",
        "outputId": "c4611805-2e15-4c4c-ade4-18b5b6a56406"
      },
      "execution_count": 113,
      "outputs": [
        {
          "output_type": "stream",
          "name": "stdout",
          "text": [
            "Artificial intelligence: Why India risks falling behind in the tech race - Business Standard\n"
          ]
        }
      ]
    },
    {
      "cell_type": "code",
      "source": [
        "print(gpt_sentiment_detector(article, emotions))"
      ],
      "metadata": {
        "colab": {
          "base_uri": "https://localhost:8080/"
        },
        "id": "GmTP4TIW5K4c",
        "outputId": "e985994e-79fe-49f7-afbd-ea0cb5ad3550"
      },
      "execution_count": 114,
      "outputs": [
        {
          "output_type": "stream",
          "name": "stdout",
          "text": [
            "Worried\n"
          ]
        }
      ]
    },
    {
      "cell_type": "code",
      "source": [
        "article = get_articles(\"IPL 2023\", \"google-news\")\n",
        "print(article)"
      ],
      "metadata": {
        "colab": {
          "base_uri": "https://localhost:8080/"
        },
        "id": "PMjtjT6Q5SaK",
        "outputId": "aa0d7f87-4b48-42cf-aa67-7f0090637867"
      },
      "execution_count": 119,
      "outputs": [
        {
          "output_type": "stream",
          "name": "stdout",
          "text": [
            "India's fantasy sports' revenue rises 24% during IPL 2023 - Redseer ... - Reuters\n"
          ]
        }
      ]
    },
    {
      "cell_type": "code",
      "source": [
        "print(gpt_sentiment_detector(article, emotions))"
      ],
      "metadata": {
        "colab": {
          "base_uri": "https://localhost:8080/"
        },
        "id": "OOCP0R_s5Yeu",
        "outputId": "2a59d8b6-b44c-4e00-de02-62d43603b234"
      },
      "execution_count": 120,
      "outputs": [
        {
          "output_type": "stream",
          "name": "stdout",
          "text": [
            "Informal\n"
          ]
        }
      ]
    },
    {
      "cell_type": "code",
      "source": [],
      "metadata": {
        "id": "w941UK-X5gOL"
      },
      "execution_count": null,
      "outputs": []
    }
  ]
}